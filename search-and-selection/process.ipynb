{
 "cells": [
  {
   "cell_type": "code",
   "execution_count": 1,
   "id": "06ee19b6",
   "metadata": {},
   "outputs": [
    {
     "data": {
      "application/javascript": [
       "\n",
       "            setTimeout(function() {\n",
       "                var nbb_cell_id = 1;\n",
       "                var nbb_unformatted_code = \"import numpy as np\\nimport pandas as pd\\nimport shutil\\nimport os\\nfrom slugify import slugify\\n\\npd.set_option(\\\"display.max_colwidth\\\", 100)\\n\\n%reload_ext nb_black\";\n",
       "                var nbb_formatted_code = \"import numpy as np\\nimport pandas as pd\\nimport shutil\\nimport os\\nfrom slugify import slugify\\n\\npd.set_option(\\\"display.max_colwidth\\\", 100)\\n\\n%reload_ext nb_black\";\n",
       "                var nbb_cells = Jupyter.notebook.get_cells();\n",
       "                for (var i = 0; i < nbb_cells.length; ++i) {\n",
       "                    if (nbb_cells[i].input_prompt_number == nbb_cell_id) {\n",
       "                        if (nbb_cells[i].get_text() == nbb_unformatted_code) {\n",
       "                             nbb_cells[i].set_text(nbb_formatted_code);\n",
       "                        }\n",
       "                        break;\n",
       "                    }\n",
       "                }\n",
       "            }, 500);\n",
       "            "
      ],
      "text/plain": [
       "<IPython.core.display.Javascript object>"
      ]
     },
     "metadata": {},
     "output_type": "display_data"
    }
   ],
   "source": [
    "import numpy as np\n",
    "import pandas as pd\n",
    "import shutil\n",
    "import os\n",
    "from slugify import slugify\n",
    "\n",
    "pd.set_option(\"display.max_colwidth\", 100)\n",
    "\n",
    "%reload_ext nb_black"
   ]
  },
  {
   "cell_type": "code",
   "execution_count": 2,
   "id": "c6b311e0",
   "metadata": {},
   "outputs": [
    {
     "data": {
      "application/javascript": [
       "\n",
       "            setTimeout(function() {\n",
       "                var nbb_cell_id = 2;\n",
       "                var nbb_unformatted_code = \"def rename(path, lit):\\n    os.makedirs(f\\\"{path}/renamed\\\", exist_ok=True)\\n    for _, row in lit.iterrows():\\n        if os.path.exists(f\\\"{path}/{row['id']}.pdf\\\"):\\n            shutil.copy(\\n                f\\\"{path}/{row['id']}.pdf\\\",\\n                f\\\"{path}/renamed/{row['id']}-{slugify(row['Title'])}.pdf\\\",\\n            )\";\n",
       "                var nbb_formatted_code = \"def rename(path, lit):\\n    os.makedirs(f\\\"{path}/renamed\\\", exist_ok=True)\\n    for _, row in lit.iterrows():\\n        if os.path.exists(f\\\"{path}/{row['id']}.pdf\\\"):\\n            shutil.copy(\\n                f\\\"{path}/{row['id']}.pdf\\\",\\n                f\\\"{path}/renamed/{row['id']}-{slugify(row['Title'])}.pdf\\\",\\n            )\";\n",
       "                var nbb_cells = Jupyter.notebook.get_cells();\n",
       "                for (var i = 0; i < nbb_cells.length; ++i) {\n",
       "                    if (nbb_cells[i].input_prompt_number == nbb_cell_id) {\n",
       "                        if (nbb_cells[i].get_text() == nbb_unformatted_code) {\n",
       "                             nbb_cells[i].set_text(nbb_formatted_code);\n",
       "                        }\n",
       "                        break;\n",
       "                    }\n",
       "                }\n",
       "            }, 500);\n",
       "            "
      ],
      "text/plain": [
       "<IPython.core.display.Javascript object>"
      ]
     },
     "metadata": {},
     "output_type": "display_data"
    }
   ],
   "source": [
    "def rename(path, lit):\n",
    "    os.makedirs(f\"{path}/renamed\", exist_ok=True)\n",
    "    for _, row in lit.iterrows():\n",
    "        if os.path.exists(f\"{path}/{row['id']}.pdf\"):\n",
    "            shutil.copy(\n",
    "                f\"{path}/{row['id']}.pdf\",\n",
    "                f\"{path}/renamed/{row['id']}-{slugify(row['Title'])}.pdf\",\n",
    "            )"
   ]
  },
  {
   "cell_type": "code",
   "execution_count": 3,
   "id": "c13d6205",
   "metadata": {},
   "outputs": [
    {
     "data": {
      "application/javascript": [
       "\n",
       "            setTimeout(function() {\n",
       "                var nbb_cell_id = 3;\n",
       "                var nbb_unformatted_code = \"selection_full_text = pd.read_csv(\\\"3a-selection-full-text.csv\\\")\\nselection_full_text[\\\"id\\\"] = np.arange(len(selection_full_text)) + 1\\n\\nrename(\\\"3a-selection-full-text\\\", selection_full_text)\";\n",
       "                var nbb_formatted_code = \"selection_full_text = pd.read_csv(\\\"3a-selection-full-text.csv\\\")\\nselection_full_text[\\\"id\\\"] = np.arange(len(selection_full_text)) + 1\\n\\nrename(\\\"3a-selection-full-text\\\", selection_full_text)\";\n",
       "                var nbb_cells = Jupyter.notebook.get_cells();\n",
       "                for (var i = 0; i < nbb_cells.length; ++i) {\n",
       "                    if (nbb_cells[i].input_prompt_number == nbb_cell_id) {\n",
       "                        if (nbb_cells[i].get_text() == nbb_unformatted_code) {\n",
       "                             nbb_cells[i].set_text(nbb_formatted_code);\n",
       "                        }\n",
       "                        break;\n",
       "                    }\n",
       "                }\n",
       "            }, 500);\n",
       "            "
      ],
      "text/plain": [
       "<IPython.core.display.Javascript object>"
      ]
     },
     "metadata": {},
     "output_type": "display_data"
    }
   ],
   "source": [
    "selection_full_text = pd.read_csv(\"3a-selection-full-text.csv\")\n",
    "selection_full_text[\"id\"] = np.arange(len(selection_full_text)) + 1\n",
    "\n",
    "rename(\"3a-selection-full-text\", selection_full_text)"
   ]
  },
  {
   "cell_type": "code",
   "execution_count": 4,
   "id": "efddb144",
   "metadata": {},
   "outputs": [
    {
     "data": {
      "application/javascript": [
       "\n",
       "            setTimeout(function() {\n",
       "                var nbb_cell_id = 4;\n",
       "                var nbb_unformatted_code = \"selection = pd.read_csv(\\\"3b-selection.csv\\\")\\n\\nselection = (\\n    selection.set_index([\\\"Title\\\", \\\"Authors\\\"])\\n    .join(\\n        selection_full_text.set_index([\\\"Title\\\", \\\"Authors\\\"])[[\\\"id\\\"]].rename(\\n            columns={\\\"id\\\": \\\"id_a\\\"}\\n        )\\n    )\\n    .reset_index()\\n)\\n\\nselection[\\\"id\\\"] = np.arange(len(selection)) + 1\\nos.makedirs(f\\\"3b-selection\\\", exist_ok=True)\\n\\nfor _, row in selection.iterrows():\\n    shutil.copy(\\n        f\\\"3a-selection-full-text/{row['id_a']}.pdf\\\", f\\\"3b-selection/{row['id']}.pdf\\\"\\n    )\\n\\nselection = selection.drop(columns=[\\\"id_a\\\"])\\nrename(\\\"3b-selection\\\", selection)\";\n",
       "                var nbb_formatted_code = \"selection = pd.read_csv(\\\"3b-selection.csv\\\")\\n\\nselection = (\\n    selection.set_index([\\\"Title\\\", \\\"Authors\\\"])\\n    .join(\\n        selection_full_text.set_index([\\\"Title\\\", \\\"Authors\\\"])[[\\\"id\\\"]].rename(\\n            columns={\\\"id\\\": \\\"id_a\\\"}\\n        )\\n    )\\n    .reset_index()\\n)\\n\\nselection[\\\"id\\\"] = np.arange(len(selection)) + 1\\nos.makedirs(f\\\"3b-selection\\\", exist_ok=True)\\n\\nfor _, row in selection.iterrows():\\n    shutil.copy(\\n        f\\\"3a-selection-full-text/{row['id_a']}.pdf\\\", f\\\"3b-selection/{row['id']}.pdf\\\"\\n    )\\n\\nselection = selection.drop(columns=[\\\"id_a\\\"])\\nrename(\\\"3b-selection\\\", selection)\";\n",
       "                var nbb_cells = Jupyter.notebook.get_cells();\n",
       "                for (var i = 0; i < nbb_cells.length; ++i) {\n",
       "                    if (nbb_cells[i].input_prompt_number == nbb_cell_id) {\n",
       "                        if (nbb_cells[i].get_text() == nbb_unformatted_code) {\n",
       "                             nbb_cells[i].set_text(nbb_formatted_code);\n",
       "                        }\n",
       "                        break;\n",
       "                    }\n",
       "                }\n",
       "            }, 500);\n",
       "            "
      ],
      "text/plain": [
       "<IPython.core.display.Javascript object>"
      ]
     },
     "metadata": {},
     "output_type": "display_data"
    }
   ],
   "source": [
    "selection = pd.read_csv(\"3b-selection.csv\")\n",
    "\n",
    "selection = (\n",
    "    selection.set_index([\"Title\", \"Authors\"])\n",
    "    .join(\n",
    "        selection_full_text.set_index([\"Title\", \"Authors\"])[[\"id\"]].rename(\n",
    "            columns={\"id\": \"id_a\"}\n",
    "        )\n",
    "    )\n",
    "    .reset_index()\n",
    ")\n",
    "\n",
    "selection[\"id\"] = np.arange(len(selection)) + 1\n",
    "os.makedirs(f\"3b-selection\", exist_ok=True)\n",
    "\n",
    "for _, row in selection.iterrows():\n",
    "    shutil.copy(\n",
    "        f\"3a-selection-full-text/{row['id_a']}.pdf\", f\"3b-selection/{row['id']}.pdf\"\n",
    "    )\n",
    "\n",
    "selection = selection.drop(columns=[\"id_a\"])\n",
    "rename(\"3b-selection\", selection)"
   ]
  },
  {
   "cell_type": "code",
   "execution_count": 5,
   "id": "4483d670",
   "metadata": {},
   "outputs": [
    {
     "data": {
      "application/javascript": [
       "\n",
       "            setTimeout(function() {\n",
       "                var nbb_cell_id = 5;\n",
       "                var nbb_unformatted_code = \"backward = pd.read_csv(\\\"4a-snowball-backward.csv\\\")\\nbackward.insert(0, \\\"id\\\", np.arange(len(backward)) + 1)\\n\\nrename(\\\"4a-snowball-backward-full-text\\\", backward)\";\n",
       "                var nbb_formatted_code = \"backward = pd.read_csv(\\\"4a-snowball-backward.csv\\\")\\nbackward.insert(0, \\\"id\\\", np.arange(len(backward)) + 1)\\n\\nrename(\\\"4a-snowball-backward-full-text\\\", backward)\";\n",
       "                var nbb_cells = Jupyter.notebook.get_cells();\n",
       "                for (var i = 0; i < nbb_cells.length; ++i) {\n",
       "                    if (nbb_cells[i].input_prompt_number == nbb_cell_id) {\n",
       "                        if (nbb_cells[i].get_text() == nbb_unformatted_code) {\n",
       "                             nbb_cells[i].set_text(nbb_formatted_code);\n",
       "                        }\n",
       "                        break;\n",
       "                    }\n",
       "                }\n",
       "            }, 500);\n",
       "            "
      ],
      "text/plain": [
       "<IPython.core.display.Javascript object>"
      ]
     },
     "metadata": {},
     "output_type": "display_data"
    }
   ],
   "source": [
    "backward = pd.read_csv(\"4a-snowball-backward.csv\")\n",
    "backward.insert(0, \"id\", np.arange(len(backward)) + 1)\n",
    "\n",
    "rename(\"4a-snowball-backward-full-text\", backward)"
   ]
  },
  {
   "cell_type": "code",
   "execution_count": 6,
   "id": "12b29210",
   "metadata": {},
   "outputs": [
    {
     "data": {
      "application/javascript": [
       "\n",
       "            setTimeout(function() {\n",
       "                var nbb_cell_id = 6;\n",
       "                var nbb_unformatted_code = \"forward = pd.read_csv(\\\"4a-snowball-forward.csv\\\")\\nforward.insert(0, \\\"id\\\", np.arange(len(forward)) + 1)\\n\\nrename(\\\"4a-snowball-forward-full-text\\\", forward)\";\n",
       "                var nbb_formatted_code = \"forward = pd.read_csv(\\\"4a-snowball-forward.csv\\\")\\nforward.insert(0, \\\"id\\\", np.arange(len(forward)) + 1)\\n\\nrename(\\\"4a-snowball-forward-full-text\\\", forward)\";\n",
       "                var nbb_cells = Jupyter.notebook.get_cells();\n",
       "                for (var i = 0; i < nbb_cells.length; ++i) {\n",
       "                    if (nbb_cells[i].input_prompt_number == nbb_cell_id) {\n",
       "                        if (nbb_cells[i].get_text() == nbb_unformatted_code) {\n",
       "                             nbb_cells[i].set_text(nbb_formatted_code);\n",
       "                        }\n",
       "                        break;\n",
       "                    }\n",
       "                }\n",
       "            }, 500);\n",
       "            "
      ],
      "text/plain": [
       "<IPython.core.display.Javascript object>"
      ]
     },
     "metadata": {},
     "output_type": "display_data"
    }
   ],
   "source": [
    "forward = pd.read_csv(\"4a-snowball-forward.csv\")\n",
    "forward.insert(0, \"id\", np.arange(len(forward)) + 1)\n",
    "\n",
    "rename(\"4a-snowball-forward-full-text\", forward)"
   ]
  },
  {
   "cell_type": "code",
   "execution_count": 7,
   "id": "24859a77",
   "metadata": {},
   "outputs": [
    {
     "data": {
      "application/javascript": [
       "\n",
       "            setTimeout(function() {\n",
       "                var nbb_cell_id = 7;\n",
       "                var nbb_unformatted_code = \"snowball = backward.iloc[0:0]\\n\\nbackward_final = backward.iloc[0:0]\\nforward_final = backward.iloc[0:0]\\n\\ni = 1\\nfor (name, iter) in [\\n    (\\\"backward\\\", backward.iterrows()),\\n    (\\\"forward\\\", forward.iterrows()),\\n]:\\n    for _, row in iter:\\n        if os.path.exists(f\\\"4b-snowball/{name}/{row['id']}.pdf\\\"):\\n            shutil.copy(f\\\"4b-snowball/{name}/{row['id']}.pdf\\\", f\\\"4b-snowball/{i}.pdf\\\")\\n\\n            if name == \\\"backward\\\":\\n                backward_final = backward_final.append(row)\\n            else:\\n                forward_final = forward_final.append(row)\\n\\n            row[\\\"id\\\"] = i\\n\\n            snowball = snowball.append(row)\\n            i += 1\\n\\n\\nrename(\\\"4b-snowball\\\", snowball)\";\n",
       "                var nbb_formatted_code = \"snowball = backward.iloc[0:0]\\n\\nbackward_final = backward.iloc[0:0]\\nforward_final = backward.iloc[0:0]\\n\\ni = 1\\nfor (name, iter) in [\\n    (\\\"backward\\\", backward.iterrows()),\\n    (\\\"forward\\\", forward.iterrows()),\\n]:\\n    for _, row in iter:\\n        if os.path.exists(f\\\"4b-snowball/{name}/{row['id']}.pdf\\\"):\\n            shutil.copy(f\\\"4b-snowball/{name}/{row['id']}.pdf\\\", f\\\"4b-snowball/{i}.pdf\\\")\\n\\n            if name == \\\"backward\\\":\\n                backward_final = backward_final.append(row)\\n            else:\\n                forward_final = forward_final.append(row)\\n\\n            row[\\\"id\\\"] = i\\n\\n            snowball = snowball.append(row)\\n            i += 1\\n\\n\\nrename(\\\"4b-snowball\\\", snowball)\";\n",
       "                var nbb_cells = Jupyter.notebook.get_cells();\n",
       "                for (var i = 0; i < nbb_cells.length; ++i) {\n",
       "                    if (nbb_cells[i].input_prompt_number == nbb_cell_id) {\n",
       "                        if (nbb_cells[i].get_text() == nbb_unformatted_code) {\n",
       "                             nbb_cells[i].set_text(nbb_formatted_code);\n",
       "                        }\n",
       "                        break;\n",
       "                    }\n",
       "                }\n",
       "            }, 500);\n",
       "            "
      ],
      "text/plain": [
       "<IPython.core.display.Javascript object>"
      ]
     },
     "metadata": {},
     "output_type": "display_data"
    }
   ],
   "source": [
    "snowball = backward.iloc[0:0]\n",
    "\n",
    "backward_final = backward.iloc[0:0]\n",
    "forward_final = backward.iloc[0:0]\n",
    "\n",
    "i = 1\n",
    "for (name, iter) in [\n",
    "    (\"backward\", backward.iterrows()),\n",
    "    (\"forward\", forward.iterrows()),\n",
    "]:\n",
    "    for _, row in iter:\n",
    "        if os.path.exists(f\"4b-snowball/{name}/{row['id']}.pdf\"):\n",
    "            shutil.copy(f\"4b-snowball/{name}/{row['id']}.pdf\", f\"4b-snowball/{i}.pdf\")\n",
    "\n",
    "            if name == \"backward\":\n",
    "                backward_final = backward_final.append(row)\n",
    "            else:\n",
    "                forward_final = forward_final.append(row)\n",
    "\n",
    "            row[\"id\"] = i\n",
    "\n",
    "            snowball = snowball.append(row)\n",
    "            i += 1\n",
    "\n",
    "\n",
    "rename(\"4b-snowball\", snowball)"
   ]
  },
  {
   "cell_type": "code",
   "execution_count": 8,
   "id": "ecefad55",
   "metadata": {},
   "outputs": [
    {
     "data": {
      "application/javascript": [
       "\n",
       "            setTimeout(function() {\n",
       "                var nbb_cell_id = 8;\n",
       "                var nbb_unformatted_code = \"i = 1\\nfor name, df in [(\\\"3b-selection\\\", selection), (\\\"4b-snowball\\\", snowball)]:\\n    for _, row in df.iterrows():\\n        shutil.copy(f\\\"{name}/{row['id']}.pdf\\\", f\\\"5-final/{i}.pdf\\\")\\n        i += 1\";\n",
       "                var nbb_formatted_code = \"i = 1\\nfor name, df in [(\\\"3b-selection\\\", selection), (\\\"4b-snowball\\\", snowball)]:\\n    for _, row in df.iterrows():\\n        shutil.copy(f\\\"{name}/{row['id']}.pdf\\\", f\\\"5-final/{i}.pdf\\\")\\n        i += 1\";\n",
       "                var nbb_cells = Jupyter.notebook.get_cells();\n",
       "                for (var i = 0; i < nbb_cells.length; ++i) {\n",
       "                    if (nbb_cells[i].input_prompt_number == nbb_cell_id) {\n",
       "                        if (nbb_cells[i].get_text() == nbb_unformatted_code) {\n",
       "                             nbb_cells[i].set_text(nbb_formatted_code);\n",
       "                        }\n",
       "                        break;\n",
       "                    }\n",
       "                }\n",
       "            }, 500);\n",
       "            "
      ],
      "text/plain": [
       "<IPython.core.display.Javascript object>"
      ]
     },
     "metadata": {},
     "output_type": "display_data"
    }
   ],
   "source": [
    "i = 1\n",
    "for name, df in [(\"3b-selection\", selection), (\"4b-snowball\", snowball)]:\n",
    "    for _, row in df.iterrows():\n",
    "        shutil.copy(f\"{name}/{row['id']}.pdf\", f\"5-final/{i}.pdf\")\n",
    "        i += 1"
   ]
  },
  {
   "cell_type": "code",
   "execution_count": 9,
   "id": "6c7dcdc6",
   "metadata": {},
   "outputs": [
    {
     "data": {
      "application/javascript": [
       "\n",
       "            setTimeout(function() {\n",
       "                var nbb_cell_id = 9;\n",
       "                var nbb_unformatted_code = \"final = pd.concat(\\n    [selection.drop(columns=\\\"id\\\"), snowball.drop(columns=\\\"id\\\")]\\n).reset_index(drop=True)\\nfinal[\\\"id\\\"] = np.arange(len(final)) + 1\\n\\nfinal.at[17, \\\"Year\\\"] = 2015\\n\\nrename(\\\"5-final\\\", final)\";\n",
       "                var nbb_formatted_code = \"final = pd.concat(\\n    [selection.drop(columns=\\\"id\\\"), snowball.drop(columns=\\\"id\\\")]\\n).reset_index(drop=True)\\nfinal[\\\"id\\\"] = np.arange(len(final)) + 1\\n\\nfinal.at[17, \\\"Year\\\"] = 2015\\n\\nrename(\\\"5-final\\\", final)\";\n",
       "                var nbb_cells = Jupyter.notebook.get_cells();\n",
       "                for (var i = 0; i < nbb_cells.length; ++i) {\n",
       "                    if (nbb_cells[i].input_prompt_number == nbb_cell_id) {\n",
       "                        if (nbb_cells[i].get_text() == nbb_unformatted_code) {\n",
       "                             nbb_cells[i].set_text(nbb_formatted_code);\n",
       "                        }\n",
       "                        break;\n",
       "                    }\n",
       "                }\n",
       "            }, 500);\n",
       "            "
      ],
      "text/plain": [
       "<IPython.core.display.Javascript object>"
      ]
     },
     "metadata": {},
     "output_type": "display_data"
    }
   ],
   "source": [
    "final = pd.concat(\n",
    "    [selection.drop(columns=\"id\"), snowball.drop(columns=\"id\")]\n",
    ").reset_index(drop=True)\n",
    "final[\"id\"] = np.arange(len(final)) + 1\n",
    "\n",
    "final.at[17, \"Year\"] = 2015\n",
    "\n",
    "rename(\"5-final\", final)"
   ]
  },
  {
   "cell_type": "code",
   "execution_count": 10,
   "id": "763f6dce",
   "metadata": {},
   "outputs": [
    {
     "data": {
      "image/png": "[encoded data removed]",
      "text/plain": [
       "<Figure size 432x288 with 1 Axes>"
      ]
     },
     "metadata": {
      "needs_background": "light"
     },
     "output_type": "display_data"
    },
    {
     "data": {
      "application/javascript": [
       "\n",
       "            setTimeout(function() {\n",
       "                var nbb_cell_id = 10;\n",
       "                var nbb_unformatted_code = \"ax = final.groupby(\\\"Year\\\").count()[\\\"id\\\"].plot.bar()\";\n",
       "                var nbb_formatted_code = \"ax = final.groupby(\\\"Year\\\").count()[\\\"id\\\"].plot.bar()\";\n",
       "                var nbb_cells = Jupyter.notebook.get_cells();\n",
       "                for (var i = 0; i < nbb_cells.length; ++i) {\n",
       "                    if (nbb_cells[i].input_prompt_number == nbb_cell_id) {\n",
       "                        if (nbb_cells[i].get_text() == nbb_unformatted_code) {\n",
       "                             nbb_cells[i].set_text(nbb_formatted_code);\n",
       "                        }\n",
       "                        break;\n",
       "                    }\n",
       "                }\n",
       "            }, 500);\n",
       "            "
      ],
      "text/plain": [
       "<IPython.core.display.Javascript object>"
      ]
     },
     "metadata": {},
     "output_type": "display_data"
    }
   ],
   "source": [
    "ax = final.groupby(\"Year\").count()[\"id\"].plot.bar()\n"
   ]
  },
  {
   "cell_type": "code",
   "execution_count": 13,
   "id": "652f2596",
   "metadata": {},
   "outputs": [
    {
     "data": {
      "application/javascript": [
       "\n",
       "            setTimeout(function() {\n",
       "                var nbb_cell_id = 13;\n",
       "                var nbb_unformatted_code = \"final.to_csv('5-final.csv')\";\n",
       "                var nbb_formatted_code = \"final.to_csv(\\\"5-final.csv\\\")\";\n",
       "                var nbb_cells = Jupyter.notebook.get_cells();\n",
       "                for (var i = 0; i < nbb_cells.length; ++i) {\n",
       "                    if (nbb_cells[i].input_prompt_number == nbb_cell_id) {\n",
       "                        if (nbb_cells[i].get_text() == nbb_unformatted_code) {\n",
       "                             nbb_cells[i].set_text(nbb_formatted_code);\n",
       "                        }\n",
       "                        break;\n",
       "                    }\n",
       "                }\n",
       "            }, 500);\n",
       "            "
      ],
      "text/plain": [
       "<IPython.core.display.Javascript object>"
      ]
     },
     "metadata": {},
     "output_type": "display_data"
    }
   ],
   "source": [
    "final.to_csv(\"5-final.csv\")"
   ]
  },
  {
   "cell_type": "code",
   "execution_count": 12,
   "id": "d313d872",
   "metadata": {
    "scrolled": false
   },
   "outputs": [
    {
     "name": "stdout",
     "output_type": "stream",
     "text": [
      "\\begin{tabular}{llllr}\n",
      "\\toprule\n",
      "{} &     Document Type &                                                                                                Title &                                                                                              Authors &  Year \\\\\n",
      "id &                   &                                                                                                      &                                                                                                      &       \\\\\n",
      "\\midrule\n",
      "1  &           Article &                 Performance Analysis of Choreography and Orchestration in Microservices Architecture &                                                                            Kristianto, H., Zahra, A. &  2021 \\\\\n",
      "2  &  Conference Paper &         Data management in microservices: State of the practice, challenges, and research directions &                                       Laigner, R., Zhou, Y., Salles, M.A.V., Liu, Y., Kalinowski, M. &  2021 \\\\\n",
      "3  &  Conference Paper &                                               Microservices: Architecture, container, and challenges &                                             Liu, G., Huang, B., Liang, Z., Qin, M., Zhou, H., Li, Z. &  2020 \\\\\n",
      "4  &  Conference Paper &                                 A logical architecture design method for microservices architectures &  Santos, N., Salgado, C.E., Morais, F., Melo, M., Silva, S., Martins, R., Pereira, M., Rodrigues,... &  2019 \\\\\n",
      "5  &  Conference Paper &                                   A Comparative Review of Microservices and Monolithic Architectures &                                                                          Al-Debagy, O., Martinek, P. &  2018 \\\\\n",
      "6  &  Conference Paper &                                                    Towards a taxonomy of microservices architectures &                                                                                          Garriga, M. &  2018 \\\\\n",
      "7  &  Conference Paper &                                     Leveraging microservices architecture by using Docker technology &                                                               Jaramillo, D., Nguyen, D.V., Smart, R. &  2016 \\\\\n",
      "8  &  Conference Paper &                                              A systematic mapping study in microservice architecture &                                                                  Alshuqayran, N., Ali, N., Evans, R. &  2016 \\\\\n",
      "9  &  Conference Paper &                                                            Microservices: A systematic mapping study &                                                                               Pahl, C., Jamshidi, P. &  2016 \\\\\n",
      "10 &           Article &                            The pains and gains of microservices: A Systematic grey literature review &                                                   Soldani, J., Tamburri, D.A., Van Den Heuvel, W.-J. &  2018 \\\\\n",
      "11 &           Article &                                                                               Microservices Patterns &                                                                                       Richardson, C. &  2018 \\\\\n",
      "12 &           Article &                                                        Microservices: Yesterday, today, and tomorrow &     Dragoni, N., Giallorenzo, S., Lafuente, A.L., Mazzara, M., Montesi, F., Mustafin, R., Safina, L. &  2016 \\\\\n",
      "13 &  Conference Paper &                                 Architectural patterns for microservices: A systematic mapping study &                                                                  Taibi, D., Lenarduzzi, V., Pahl, C. &  2018 \\\\\n",
      "14 &           Article &                                                         The Design and Architecture of Microservices &                                                                                             Sill, A. &  2016 \\\\\n",
      "15 &  Conference Paper &                                   The database-is-the-service pattern for microservice architectures &                                      Messina, A., Rizzo, R., Storniolo, P., Tripiciano, M., Urso, A. &  2016 \\\\\n",
      "16 &           Article &                                                 Performance Analysis of Microservice Design Patterns &                                                                            Akbulut, A., Perros, H.G. &  2019 \\\\\n",
      "17 &  Conference Paper &                                Microservices architecture: Challenges and proposed conceptual design &                                                       Munaf, R.M., Ahmed, J., Khakwani, F., Rana, T. &  2019 \\\\\n",
      "18 &           Article &                                                               Microservices from theory to practices &                                                                           [No author name available] &  2015 \\\\\n",
      "19 &  Conference Paper &  Event Oriented vs Object Oriented Analysis for Microservice Architecture: An Exploratory Case Study &                                                     Unlu, H., Tenekeci, S., Yildiz, A., Demirors, O. &  2021 \\\\\n",
      "20 &           Article &                                          Architecting with microservices: A systematic mapping study &                                                            Di Francesco, P., Lago, P., Malavolta, I. &  2019 \\\\\n",
      "21 &  Conference Paper &                                                          A systematic mapping study on microservices &                                                          Hamzehloui, M.S., Sahibuddin, S., Salah, K. &  2019 \\\\\n",
      "\\bottomrule\n",
      "\\end{tabular}\n",
      "\n"
     ]
    },
    {
     "data": {
      "application/javascript": [
       "\n",
       "            setTimeout(function() {\n",
       "                var nbb_cell_id = 12;\n",
       "                var nbb_unformatted_code = \"print(final.set_index(\\\"id\\\")[[\\\"Document Type\\\", \\\"Title\\\", \\\"Authors\\\", \\\"Year\\\"]].to_latex())\";\n",
       "                var nbb_formatted_code = \"print(final.set_index(\\\"id\\\")[[\\\"Document Type\\\", \\\"Title\\\", \\\"Authors\\\", \\\"Year\\\"]].to_latex())\";\n",
       "                var nbb_cells = Jupyter.notebook.get_cells();\n",
       "                for (var i = 0; i < nbb_cells.length; ++i) {\n",
       "                    if (nbb_cells[i].input_prompt_number == nbb_cell_id) {\n",
       "                        if (nbb_cells[i].get_text() == nbb_unformatted_code) {\n",
       "                             nbb_cells[i].set_text(nbb_formatted_code);\n",
       "                        }\n",
       "                        break;\n",
       "                    }\n",
       "                }\n",
       "            }, 500);\n",
       "            "
      ],
      "text/plain": [
       "<IPython.core.display.Javascript object>"
      ]
     },
     "metadata": {},
     "output_type": "display_data"
    }
   ],
   "source": [
    "print(final.set_index(\"id\")[[\"Document Type\", \"Title\", \"Authors\", \"Year\"]].to_latex())"
   ]
  },
  {
   "cell_type": "code",
   "execution_count": null,
   "id": "ffdf64a6",
   "metadata": {},
   "outputs": [],
   "source": []
  },
  {
   "cell_type": "code",
   "execution_count": null,
   "id": "9f4669ff",
   "metadata": {},
   "outputs": [],
   "source": []
  },
  {
   "cell_type": "code",
   "execution_count": null,
   "id": "f7494a93",
   "metadata": {},
   "outputs": [],
   "source": []
  }
 ],
 "metadata": {
  "kernelspec": {
   "display_name": "Python 3",
   "language": "python",
   "name": "python3"
  },
  "language_info": {
   "codemirror_mode": {
    "name": "ipython",
    "version": 3
   },
   "file_extension": ".py",
   "mimetype": "text/x-python",
   "name": "python",
   "nbconvert_exporter": "python",
   "pygments_lexer": "ipython3",
   "version": "3.9.7"
  }
 },
 "nbformat": 4,
 "nbformat_minor": 5
}
